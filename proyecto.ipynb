{
 "cells": [
  {
   "cell_type": "code",
   "execution_count": 9,
   "metadata": {},
   "outputs": [
    {
     "ename": "NameError",
     "evalue": "name 'SERIES' is not defined",
     "output_type": "error",
     "traceback": [
      "\u001b[1;31m---------------------------------------------------------------------------\u001b[0m",
      "\u001b[1;31mNameError\u001b[0m                                 Traceback (most recent call last)",
      "Cell \u001b[1;32mIn[9], line 8\u001b[0m\n\u001b[0;32m      6\u001b[0m \u001b[38;5;66;03m#borrar columnas que no se necesitan\u001b[39;00m\n\u001b[0;32m      7\u001b[0m datos \u001b[38;5;241m=\u001b[39m datos\u001b[38;5;241m.\u001b[39mdropna()\n\u001b[1;32m----> 8\u001b[0m datos[SERIES]\u001b[38;5;241m=\u001b[39mdatos[SERIES]\u001b[38;5;241m+\u001b[39m\u001b[38;5;241m9000000\u001b[39m\n\u001b[0;32m      9\u001b[0m datos\u001b[38;5;241m.\u001b[39mtail()\n",
      "\u001b[1;31mNameError\u001b[0m: name 'SERIES' is not defined"
     ]
    }
   ],
   "source": [
    "import pandas as pd\n",
    "\n",
    "# Cargar el archivo de datos del PIB\n",
    "datos = pd.read_csv(\"PIB.csv\", encoding='latin1')\n",
    "\n",
    "#borrar columnas que no se necesitan\n",
    "datos = datos.dropna()\n",
    "\n",
    "datos.tail()"
   ]
  },
  {
   "cell_type": "markdown",
   "metadata": {},
   "source": [
    "# Datos del dataset"
   ]
  },
  {
   "cell_type": "code",
   "execution_count": null,
   "metadata": {},
   "outputs": [],
   "source": [
    "datos.describe()"
   ]
  }
 ],
 "metadata": {
  "kernelspec": {
   "display_name": "base",
   "language": "python",
   "name": "python3"
  },
  "language_info": {
   "codemirror_mode": {
    "name": "ipython",
    "version": 3
   },
   "file_extension": ".py",
   "mimetype": "text/x-python",
   "name": "python",
   "nbconvert_exporter": "python",
   "pygments_lexer": "ipython3",
   "version": "3.11.7"
  }
 },
 "nbformat": 4,
 "nbformat_minor": 2
}
